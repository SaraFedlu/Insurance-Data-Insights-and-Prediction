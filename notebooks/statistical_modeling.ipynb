{
 "cells": [
  {
   "cell_type": "code",
   "execution_count": 1,
   "metadata": {},
   "outputs": [
    {
     "name": "stderr",
     "output_type": "stream",
     "text": [
      "/home/sarah/my-projects/Insurance-Data-Insights-and-Prediction/.env/lib/python3.12/site-packages/tqdm/auto.py:21: TqdmWarning: IProgress not found. Please update jupyter and ipywidgets. See https://ipywidgets.readthedocs.io/en/stable/user_install.html\n",
      "  from .autonotebook import tqdm as notebook_tqdm\n"
     ]
    }
   ],
   "source": [
    "import pandas as pd\n",
    "import numpy as np\n",
    "from sklearn.model_selection import train_test_split\n",
    "from sklearn.preprocessing import OneHotEncoder, LabelEncoder\n",
    "from sklearn.linear_model import LinearRegression\n",
    "from sklearn.ensemble import RandomForestRegressor\n",
    "from xgboost import XGBRegressor\n",
    "from sklearn.metrics import mean_absolute_error, mean_squared_error, r2_score\n",
    "import shap"
   ]
  },
  {
   "cell_type": "code",
   "execution_count": 2,
   "metadata": {},
   "outputs": [],
   "source": [
    "data = pd.read_csv('../data/processed/clean_dataset.csv')"
   ]
  },
  {
   "cell_type": "code",
   "execution_count": null,
   "metadata": {},
   "outputs": [
    {
     "data": {
      "text/plain": [
       "UnderwrittenCoverID         0\n",
       "PolicyID                    0\n",
       "TransactionMonth            0\n",
       "IsVATRegistered             0\n",
       "Citizenship                 0\n",
       "LegalType                   0\n",
       "Title                       0\n",
       "Language                    0\n",
       "Bank                        0\n",
       "AccountType                 0\n",
       "MaritalStatus               0\n",
       "Gender                      0\n",
       "Country                     0\n",
       "Province                    0\n",
       "PostalCode                  0\n",
       "MainCrestaZone              0\n",
       "SubCrestaZone               0\n",
       "ItemType                    0\n",
       "mmcode                      0\n",
       "VehicleType                 0\n",
       "RegistrationYear            0\n",
       "make                        0\n",
       "Model                       0\n",
       "Cylinders                   0\n",
       "cubiccapacity               0\n",
       "kilowatts                   0\n",
       "bodytype                    0\n",
       "NumberOfDoors               0\n",
       "VehicleIntroDate            0\n",
       "AlarmImmobiliser            0\n",
       "TrackingDevice              0\n",
       "CapitalOutstanding          0\n",
       "NewVehicle                  0\n",
       "SumInsured                  0\n",
       "TermFrequency               0\n",
       "CalculatedPremiumPerTerm    0\n",
       "ExcessSelected              0\n",
       "CoverCategory               0\n",
       "CoverType                   0\n",
       "CoverGroup                  0\n",
       "Section                     0\n",
       "Product                     0\n",
       "StatutoryClass              0\n",
       "StatutoryRiskType           0\n",
       "TotalPremium                0\n",
       "TotalClaims                 0\n",
       "dtype: int64"
      ]
     },
     "execution_count": 4,
     "metadata": {},
     "output_type": "execute_result"
    }
   ],
   "source": [
    "data.isna().sum()"
   ]
  },
  {
   "cell_type": "code",
   "execution_count": 5,
   "metadata": {},
   "outputs": [],
   "source": [
    "# Feature Engineering\n",
    "data['Margin'] = data['TotalPremium'] - data['TotalClaims']"
   ]
  },
  {
   "cell_type": "code",
   "execution_count": 8,
   "metadata": {},
   "outputs": [],
   "source": [
    "# Encode Categorical Variables\n",
    "categorical_columns = data.select_dtypes(include=['object']).columns\n",
    "data = pd.get_dummies(data, columns=categorical_columns, drop_first=True)"
   ]
  },
  {
   "cell_type": "code",
   "execution_count": 9,
   "metadata": {},
   "outputs": [],
   "source": [
    "# Train-Test Split\n",
    "X = data.drop(['TotalPremium', 'TotalClaims'], axis=1)  # Predictors\n",
    "y = data['TotalPremium']  # Target variable\n",
    "X_train, X_test, y_train, y_test = train_test_split(X, y, test_size=0.2, random_state=42)"
   ]
  }
 ],
 "metadata": {
  "kernelspec": {
   "display_name": ".env",
   "language": "python",
   "name": "python3"
  },
  "language_info": {
   "codemirror_mode": {
    "name": "ipython",
    "version": 3
   },
   "file_extension": ".py",
   "mimetype": "text/x-python",
   "name": "python",
   "nbconvert_exporter": "python",
   "pygments_lexer": "ipython3",
   "version": "3.12.3"
  }
 },
 "nbformat": 4,
 "nbformat_minor": 2
}
