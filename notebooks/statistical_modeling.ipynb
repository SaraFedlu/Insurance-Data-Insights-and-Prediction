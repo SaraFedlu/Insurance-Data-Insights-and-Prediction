{
  "cells": [
    {
      "cell_type": "code",
      "execution_count": 2,
      "metadata": {
        "execution": {
          "iopub.execute_input": "2025-01-01T11:53:45.446210Z",
          "iopub.status.busy": "2025-01-01T11:53:45.445842Z",
          "iopub.status.idle": "2025-01-01T11:53:48.021033Z",
          "shell.execute_reply": "2025-01-01T11:53:48.020439Z",
          "shell.execute_reply.started": "2025-01-01T11:53:45.446167Z"
        },
        "id": "PX6WE2CEbMck"
      },
      "outputs": [],
      "source": [
        "import pandas as pd\n",
        "import numpy as np\n",
        "from sklearn.model_selection import train_test_split\n",
        "from sklearn.preprocessing import OneHotEncoder, LabelEncoder\n",
        "from sklearn.preprocessing import StandardScaler\n",
        "from sklearn.linear_model import LinearRegression\n",
        "from sklearn.ensemble import RandomForestRegressor\n",
        "from xgboost import XGBRegressor\n",
        "from sklearn.metrics import mean_absolute_error, mean_squared_error, r2_score\n",
        "import shap"
      ]
    },
    {
      "cell_type": "code",
      "execution_count": 3,
      "metadata": {
        "execution": {
          "iopub.execute_input": "2025-01-01T12:11:30.618838Z",
          "iopub.status.busy": "2025-01-01T12:11:30.618491Z",
          "iopub.status.idle": "2025-01-01T12:11:37.760532Z",
          "shell.execute_reply": "2025-01-01T12:11:37.759983Z",
          "shell.execute_reply.started": "2025-01-01T12:11:30.618815Z"
        },
        "id": "0TXiADylbMcp"
      },
      "outputs": [],
      "source": [
        "data = pd.read_csv('/content/clean_dataset.csv')"
      ]
    },
    {
      "cell_type": "code",
      "execution_count": 4,
      "metadata": {
        "execution": {
          "iopub.execute_input": "2025-01-01T12:11:55.581188Z",
          "iopub.status.busy": "2025-01-01T12:11:55.580841Z",
          "iopub.status.idle": "2025-01-01T12:11:55.587323Z",
          "shell.execute_reply": "2025-01-01T12:11:55.586737Z",
          "shell.execute_reply.started": "2025-01-01T12:11:55.581166Z"
        },
        "id": "ax-t7IjnbMcq",
        "outputId": "6d400f66-c197-45b2-ec55-d3574d234acd",
        "colab": {
          "base_uri": "https://localhost:8080/"
        }
      },
      "outputs": [
        {
          "output_type": "execute_result",
          "data": {
            "text/plain": [
              "(1000098, 46)"
            ]
          },
          "metadata": {},
          "execution_count": 4
        }
      ],
      "source": [
        "data.shape"
      ]
    },
    {
      "cell_type": "code",
      "execution_count": null,
      "metadata": {
        "id": "d2DV2J-ibMcr",
        "outputId": "b81434d2-dca7-4f86-87ee-5bdbed19e5da"
      },
      "outputs": [
        {
          "data": {
            "text/plain": [
              "UnderwrittenCoverID         0\n",
              "PolicyID                    0\n",
              "TransactionMonth            0\n",
              "IsVATRegistered             0\n",
              "Citizenship                 0\n",
              "LegalType                   0\n",
              "Title                       0\n",
              "Language                    0\n",
              "Bank                        0\n",
              "AccountType                 0\n",
              "MaritalStatus               0\n",
              "Gender                      0\n",
              "Country                     0\n",
              "Province                    0\n",
              "PostalCode                  0\n",
              "MainCrestaZone              0\n",
              "SubCrestaZone               0\n",
              "ItemType                    0\n",
              "mmcode                      0\n",
              "VehicleType                 0\n",
              "RegistrationYear            0\n",
              "make                        0\n",
              "Model                       0\n",
              "Cylinders                   0\n",
              "cubiccapacity               0\n",
              "kilowatts                   0\n",
              "bodytype                    0\n",
              "NumberOfDoors               0\n",
              "VehicleIntroDate            0\n",
              "AlarmImmobiliser            0\n",
              "TrackingDevice              0\n",
              "CapitalOutstanding          0\n",
              "NewVehicle                  0\n",
              "SumInsured                  0\n",
              "TermFrequency               0\n",
              "CalculatedPremiumPerTerm    0\n",
              "ExcessSelected              0\n",
              "CoverCategory               0\n",
              "CoverType                   0\n",
              "CoverGroup                  0\n",
              "Section                     0\n",
              "Product                     0\n",
              "StatutoryClass              0\n",
              "StatutoryRiskType           0\n",
              "TotalPremium                0\n",
              "TotalClaims                 0\n",
              "dtype: int64"
            ]
          },
          "execution_count": 4,
          "metadata": {},
          "output_type": "execute_result"
        }
      ],
      "source": [
        "data.isna().sum()"
      ]
    },
    {
      "cell_type": "code",
      "execution_count": 5,
      "metadata": {
        "execution": {
          "iopub.execute_input": "2025-01-01T12:12:17.791091Z",
          "iopub.status.busy": "2025-01-01T12:12:17.790748Z",
          "iopub.status.idle": "2025-01-01T12:12:17.798954Z",
          "shell.execute_reply": "2025-01-01T12:12:17.798405Z",
          "shell.execute_reply.started": "2025-01-01T12:12:17.791069Z"
        },
        "id": "ZRaZEaEXbMct"
      },
      "outputs": [],
      "source": [
        "# Feature Engineering\n",
        "data['Margin'] = data['TotalPremium'] - data['TotalClaims']"
      ]
    },
    {
      "cell_type": "code",
      "execution_count": 6,
      "metadata": {
        "execution": {
          "iopub.execute_input": "2025-01-01T12:14:30.721819Z",
          "iopub.status.busy": "2025-01-01T12:14:30.721474Z",
          "iopub.status.idle": "2025-01-01T12:14:32.300563Z",
          "shell.execute_reply": "2025-01-01T12:14:32.299952Z",
          "shell.execute_reply.started": "2025-01-01T12:14:30.721798Z"
        },
        "id": "yJVOFJCvbMcu"
      },
      "outputs": [],
      "source": [
        "# Identify categorical features\n",
        "categorical_cols = data.select_dtypes(include=['object']).columns\n",
        "\n",
        "# Separate high-cardinality and low-cardinality categorical features\n",
        "high_cardinality_cols = [col for col in categorical_cols if data[col].nunique() > 10]\n",
        "low_cardinality_cols = list(set(categorical_cols) - set(high_cardinality_cols))"
      ]
    },
    {
      "cell_type": "code",
      "execution_count": 7,
      "metadata": {
        "execution": {
          "iopub.execute_input": "2025-01-01T12:14:40.738680Z",
          "iopub.status.busy": "2025-01-01T12:14:40.738340Z",
          "iopub.status.idle": "2025-01-01T12:14:42.546106Z",
          "shell.execute_reply": "2025-01-01T12:14:42.545597Z",
          "shell.execute_reply.started": "2025-01-01T12:14:40.738658Z"
        },
        "id": "Qhwmp4pKbMcv"
      },
      "outputs": [],
      "source": [
        "# Apply label encoding to high-cardinality columns\n",
        "label_encoders = {col: LabelEncoder() for col in high_cardinality_cols}\n",
        "\n",
        "for col in high_cardinality_cols:\n",
        "    data[col] = label_encoders[col].fit_transform(data[col])"
      ]
    },
    {
      "cell_type": "code",
      "execution_count": 8,
      "metadata": {
        "execution": {
          "iopub.execute_input": "2025-01-01T12:15:24.274687Z",
          "iopub.status.busy": "2025-01-01T12:15:24.274323Z",
          "iopub.status.idle": "2025-01-01T12:15:28.548418Z",
          "shell.execute_reply": "2025-01-01T12:15:28.547795Z",
          "shell.execute_reply.started": "2025-01-01T12:15:24.274662Z"
        },
        "id": "uu_dwQsobMcw"
      },
      "outputs": [],
      "source": [
        "# Apply one-hot encoding only to low-cardinality columns\n",
        "one_hot_encoder = OneHotEncoder(handle_unknown='ignore', sparse_output=False)\n",
        "one_hot_encoded = one_hot_encoder.fit_transform(data[low_cardinality_cols])\n",
        "\n",
        "# Convert one-hot encoded data into a DataFrame\n",
        "low_card_encoded_df = pd.DataFrame(one_hot_encoded, columns=one_hot_encoder.get_feature_names_out(low_cardinality_cols))"
      ]
    },
    {
      "cell_type": "code",
      "execution_count": 9,
      "metadata": {
        "execution": {
          "iopub.execute_input": "2025-01-01T12:15:53.956326Z",
          "iopub.status.busy": "2025-01-01T12:15:53.956008Z",
          "iopub.status.idle": "2025-01-01T12:15:55.197391Z",
          "shell.execute_reply": "2025-01-01T12:15:55.196811Z",
          "shell.execute_reply.started": "2025-01-01T12:15:53.956302Z"
        },
        "id": "okbTGOQVbMcy",
        "outputId": "95c876f3-0f49-4272-c77c-6740f7246bee",
        "colab": {
          "base_uri": "https://localhost:8080/"
        }
      },
      "outputs": [
        {
          "output_type": "execute_result",
          "data": {
            "text/plain": [
              "(1000098, 89)"
            ]
          },
          "metadata": {},
          "execution_count": 9
        }
      ],
      "source": [
        "# Drop original low-cardinality columns and concatenate encoded data\n",
        "data = data.drop(columns=low_cardinality_cols).reset_index(drop=True)\n",
        "data = pd.concat([data, low_card_encoded_df], axis=1)\n",
        "data.shape"
      ]
    },
    {
      "cell_type": "code",
      "execution_count": 10,
      "metadata": {
        "execution": {
          "iopub.execute_input": "2025-01-01T12:26:05.431387Z",
          "iopub.status.busy": "2025-01-01T12:26:05.431050Z",
          "iopub.status.idle": "2025-01-01T12:26:06.371540Z",
          "shell.execute_reply": "2025-01-01T12:26:06.370981Z",
          "shell.execute_reply.started": "2025-01-01T12:26:05.431365Z"
        },
        "id": "nyivRqHrbMc0"
      },
      "outputs": [],
      "source": [
        "# Train-Test Split\n",
        "X = data.drop(['TotalPremium', 'TotalClaims'], axis=1)\n",
        "y = data['TotalPremium']\n",
        "X_train, X_test, y_train, y_test = train_test_split(X, y, test_size=0.2, random_state=42)"
      ]
    },
    {
      "cell_type": "code",
      "execution_count": 11,
      "metadata": {
        "execution": {
          "iopub.execute_input": "2025-01-01T12:26:12.608974Z",
          "iopub.status.busy": "2025-01-01T12:26:12.608650Z",
          "iopub.status.idle": "2025-01-01T12:26:18.393135Z",
          "shell.execute_reply": "2025-01-01T12:26:18.392593Z",
          "shell.execute_reply.started": "2025-01-01T12:26:12.608953Z"
        },
        "id": "WasMLb-fbMc1"
      },
      "outputs": [],
      "source": [
        "scaler = StandardScaler()\n",
        "X_train = scaler.fit_transform(X_train)\n",
        "X_test = scaler.transform(X_test)"
      ]
    },
    {
      "cell_type": "code",
      "execution_count": null,
      "metadata": {
        "execution": {
          "iopub.execute_input": "2025-01-01T12:30:57.060007Z",
          "iopub.status.busy": "2025-01-01T12:30:57.059671Z",
          "iopub.status.idle": "2025-01-01T12:30:58.780809Z",
          "shell.execute_reply": "2025-01-01T12:30:58.779953Z",
          "shell.execute_reply.started": "2025-01-01T12:30:57.059985Z"
        },
        "id": "q33SqmSCbMc2"
      },
      "outputs": [],
      "source": [
        "# Linear Regression\n",
        "linear_model = LinearRegression()\n",
        "linear_model.fit(X_train, y_train)\n",
        "y_pred_linear = linear_model.predict(X_test)"
      ]
    },
    {
      "cell_type": "code",
      "execution_count": 12,
      "metadata": {
        "execution": {
          "iopub.execute_input": "2025-01-01T12:32:23.071980Z",
          "iopub.status.busy": "2025-01-01T12:32:23.071641Z",
          "iopub.status.idle": "2025-01-01T12:53:23.554408Z",
          "shell.execute_reply": "2025-01-01T12:53:23.553754Z",
          "shell.execute_reply.started": "2025-01-01T12:32:23.071959Z"
        },
        "id": "D6kOytpgbMc3"
      },
      "outputs": [],
      "source": [
        "# Random Forest\n",
        "rf_model = RandomForestRegressor(random_state=42, n_estimators=100)\n",
        "rf_model.fit(X_train, y_train)\n",
        "y_pred_rf = rf_model.predict(X_test)"
      ]
    },
    {
      "cell_type": "code",
      "execution_count": null,
      "metadata": {
        "execution": {
          "iopub.execute_input": "2025-01-01T13:01:05.237102Z",
          "iopub.status.busy": "2025-01-01T13:01:05.236781Z",
          "iopub.status.idle": "2025-01-01T13:01:09.260152Z",
          "shell.execute_reply": "2025-01-01T13:01:09.259429Z",
          "shell.execute_reply.started": "2025-01-01T13:01:05.237078Z"
        },
        "id": "EOKjnpExbMc3",
        "outputId": "b220f6c7-e5ce-47f6-b341-18291f566ad2"
      },
      "outputs": [
        {
          "name": "stderr",
          "output_type": "stream",
          "text": [
            "/opt/saturncloud/envs/saturn/lib/python3.12/site-packages/xgboost/core.py:158: UserWarning: [13:01:08] WARNING: /workspace/src/common/error_msg.cc:27: The tree method `gpu_hist` is deprecated since 2.0.0. To use GPU training, set the `device` parameter to CUDA instead.\n",
            "\n",
            "    E.g. tree_method = \"hist\", device = \"cuda\"\n",
            "\n",
            "  warnings.warn(smsg, UserWarning)\n",
            "/opt/saturncloud/envs/saturn/lib/python3.12/site-packages/xgboost/core.py:158: UserWarning: [13:01:08] WARNING: /workspace/src/learner.cc:740: \n",
            "Parameters: { \"predictor\" } are not used.\n",
            "\n",
            "  warnings.warn(smsg, UserWarning)\n",
            "/opt/saturncloud/envs/saturn/lib/python3.12/site-packages/xgboost/core.py:158: UserWarning: [13:01:09] WARNING: /workspace/src/common/error_msg.cc:27: The tree method `gpu_hist` is deprecated since 2.0.0. To use GPU training, set the `device` parameter to CUDA instead.\n",
            "\n",
            "    E.g. tree_method = \"hist\", device = \"cuda\"\n",
            "\n",
            "  warnings.warn(smsg, UserWarning)\n",
            "/opt/saturncloud/envs/saturn/lib/python3.12/site-packages/xgboost/core.py:158: UserWarning: [13:01:09] WARNING: /workspace/src/common/error_msg.cc:58: Falling back to prediction using DMatrix due to mismatched devices. This might lead to higher memory usage and slower performance. XGBoost is running on: cuda:0, while the input data is on: cpu.\n",
            "Potential solutions:\n",
            "- Use a data structure that matches the device ordinal in the booster.\n",
            "- Set the device for booster before call to inplace_predict.\n",
            "\n",
            "This warning will only be shown once.\n",
            "\n",
            "  warnings.warn(smsg, UserWarning)\n"
          ]
        }
      ],
      "source": [
        "# XGBoost\n",
        "xgb_model = XGBRegressor(random_state=42, max_depth=4, tree_method='gpu_hist', predictor='gpu_predictor', n_estimators=50, learning_rate=0.1)\n",
        "xgb_model.fit(X_train, y_train)\n",
        "y_pred_xgb = xgb_model.predict(X_test)"
      ]
    },
    {
      "cell_type": "code",
      "execution_count": 13,
      "metadata": {
        "execution": {
          "iopub.execute_input": "2025-01-01T13:06:00.044320Z",
          "iopub.status.busy": "2025-01-01T13:06:00.043957Z",
          "iopub.status.idle": "2025-01-01T13:06:00.048129Z",
          "shell.execute_reply": "2025-01-01T13:06:00.047531Z",
          "shell.execute_reply.started": "2025-01-01T13:06:00.044296Z"
        },
        "id": "I3JyNd6mbMc5"
      },
      "outputs": [],
      "source": [
        "def evaluate_model(y_test, y_pred, model_name):\n",
        "    mae = mean_absolute_error(y_test, y_pred)\n",
        "    mse = mean_squared_error(y_test, y_pred)\n",
        "    r2 = r2_score(y_test, y_pred)\n",
        "    print(f\"{model_name} Evaluation:\")\n",
        "    print(f\"Mean Absolute Error: {mae}\")\n",
        "    print(f\"Mean Squared Error: {mse}\")\n",
        "    print(f\"R² Score: {r2}\")\n",
        "    print(\"-\" * 50)"
      ]
    },
    {
      "cell_type": "code",
      "execution_count": null,
      "metadata": {
        "execution": {
          "iopub.execute_input": "2025-01-01T13:07:34.218432Z",
          "iopub.status.busy": "2025-01-01T13:07:34.218076Z",
          "iopub.status.idle": "2025-01-01T13:07:34.228004Z",
          "shell.execute_reply": "2025-01-01T13:07:34.227405Z",
          "shell.execute_reply.started": "2025-01-01T13:07:34.218409Z"
        },
        "id": "eEHHiWREbMc5",
        "outputId": "b6f23362-78e3-4039-8230-2133e2552a37"
      },
      "outputs": [
        {
          "name": "stdout",
          "output_type": "stream",
          "text": [
            "Linear Regression Evaluation:\n",
            "Mean Absolute Error: 57.07293289223882\n",
            "Mean Squared Error: 15706.794959218325\n",
            "R² Score: 0.4306693967044357\n",
            "--------------------------------------------------\n"
          ]
        }
      ],
      "source": [
        "evaluate_model(y_test, y_pred_linear, \"Linear Regression\")"
      ]
    },
    {
      "cell_type": "code",
      "execution_count": 14,
      "metadata": {
        "execution": {
          "iopub.execute_input": "2025-01-01T13:07:58.126113Z",
          "iopub.status.busy": "2025-01-01T13:07:58.125792Z",
          "iopub.status.idle": "2025-01-01T13:07:58.135766Z",
          "shell.execute_reply": "2025-01-01T13:07:58.135110Z",
          "shell.execute_reply.started": "2025-01-01T13:07:58.126089Z"
        },
        "id": "iSyvND5DbMc6",
        "outputId": "7f2b4135-f4d1-4f56-f233-027c81da146b",
        "colab": {
          "base_uri": "https://localhost:8080/"
        }
      },
      "outputs": [
        {
          "output_type": "stream",
          "name": "stdout",
          "text": [
            "Random Forest Evaluation:\n",
            "Mean Absolute Error: 0.18418533741291265\n",
            "Mean Squared Error: 685.9396079187253\n",
            "R² Score: 0.9751364672541618\n",
            "--------------------------------------------------\n"
          ]
        }
      ],
      "source": [
        "evaluate_model(y_test, y_pred_rf, \"Random Forest\")"
      ]
    },
    {
      "cell_type": "code",
      "execution_count": null,
      "metadata": {
        "execution": {
          "iopub.execute_input": "2025-01-01T13:08:12.396525Z",
          "iopub.status.busy": "2025-01-01T13:08:12.396179Z",
          "iopub.status.idle": "2025-01-01T13:08:12.405810Z",
          "shell.execute_reply": "2025-01-01T13:08:12.405220Z",
          "shell.execute_reply.started": "2025-01-01T13:08:12.396502Z"
        },
        "id": "JxXFxiEbbMc7"
      },
      "outputs": [],
      "source": [
        "evaluate_model(y_test, y_pred_xgb, \"XGBoost\")"
      ]
    },
    {
      "cell_type": "code",
      "source": [
        "X_test_sampled = pd.DataFrame(X_test).sample(n=10000, random_state=42)"
      ],
      "metadata": {
        "id": "4I7NukvJmyI0"
      },
      "execution_count": 15,
      "outputs": []
    },
    {
      "cell_type": "code",
      "source": [
        "top_features = np.argsort(rf_model.feature_importances_)[-20:]\n",
        "X_test_sampled = X_test_sampled.iloc[:, top_features]"
      ],
      "metadata": {
        "id": "gkTI5iA8m_91"
      },
      "execution_count": 16,
      "outputs": []
    },
    {
      "cell_type": "code",
      "source": [
        "explainer = shap.TreeExplainer(rf_model, feature_perturbation=\"tree_path_dependent\")\n",
        "shap_values = explainer.shap_values(X_test_sampled)"
      ],
      "metadata": {
        "id": "eInexl0rx9w_"
      },
      "execution_count": null,
      "outputs": []
    },
    {
      "cell_type": "code",
      "source": [
        "shap_values"
      ],
      "metadata": {
        "id": "pFlxwBOgL9-B"
      },
      "execution_count": null,
      "outputs": []
    }
  ],
  "metadata": {
    "kernelspec": {
      "display_name": "saturn (Python 3)",
      "language": "python",
      "name": "python3"
    },
    "language_info": {
      "codemirror_mode": {
        "name": "ipython",
        "version": 3
      },
      "file_extension": ".py",
      "mimetype": "text/x-python",
      "name": "python",
      "nbconvert_exporter": "python",
      "pygments_lexer": "ipython3",
      "version": "3.12.7"
    },
    "colab": {
      "provenance": []
    }
  },
  "nbformat": 4,
  "nbformat_minor": 0
}