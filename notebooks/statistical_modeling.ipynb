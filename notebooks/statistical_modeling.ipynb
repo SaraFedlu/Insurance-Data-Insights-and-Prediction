{
 "cells": [
  {
   "cell_type": "code",
   "execution_count": 3,
   "metadata": {
    "execution": {
     "iopub.execute_input": "2025-01-01T11:53:45.446210Z",
     "iopub.status.busy": "2025-01-01T11:53:45.445842Z",
     "iopub.status.idle": "2025-01-01T11:53:48.021033Z",
     "shell.execute_reply": "2025-01-01T11:53:48.020439Z",
     "shell.execute_reply.started": "2025-01-01T11:53:45.446167Z"
    }
   },
   "outputs": [],
   "source": [
    "import pandas as pd\n",
    "import numpy as np\n",
    "from sklearn.model_selection import train_test_split\n",
    "from sklearn.preprocessing import OneHotEncoder, LabelEncoder\n",
    "from sklearn.preprocessing import StandardScaler\n",
    "from sklearn.linear_model import LinearRegression\n",
    "from sklearn.ensemble import RandomForestRegressor\n",
    "from xgboost import XGBRegressor\n",
    "from sklearn.metrics import mean_absolute_error, mean_squared_error, r2_score\n",
    "import shap"
   ]
  },
  {
   "cell_type": "code",
   "execution_count": 8,
   "metadata": {
    "execution": {
     "iopub.execute_input": "2025-01-01T12:11:30.618838Z",
     "iopub.status.busy": "2025-01-01T12:11:30.618491Z",
     "iopub.status.idle": "2025-01-01T12:11:37.760532Z",
     "shell.execute_reply": "2025-01-01T12:11:37.759983Z",
     "shell.execute_reply.started": "2025-01-01T12:11:30.618815Z"
    }
   },
   "outputs": [],
   "source": [
    "data = pd.read_csv('../data/processed/clean_dataset.csv')"
   ]
  },
  {
   "cell_type": "code",
   "execution_count": 9,
   "metadata": {
    "execution": {
     "iopub.execute_input": "2025-01-01T12:11:55.581188Z",
     "iopub.status.busy": "2025-01-01T12:11:55.580841Z",
     "iopub.status.idle": "2025-01-01T12:11:55.587323Z",
     "shell.execute_reply": "2025-01-01T12:11:55.586737Z",
     "shell.execute_reply.started": "2025-01-01T12:11:55.581166Z"
    }
   },
   "outputs": [
    {
     "data": {
      "text/plain": [
       "(1000098, 46)"
      ]
     },
     "execution_count": 9,
     "metadata": {},
     "output_type": "execute_result"
    }
   ],
   "source": [
    "data.shape"
   ]
  },
  {
   "cell_type": "code",
   "execution_count": null,
   "metadata": {},
   "outputs": [
    {
     "data": {
      "text/plain": [
       "UnderwrittenCoverID         0\n",
       "PolicyID                    0\n",
       "TransactionMonth            0\n",
       "IsVATRegistered             0\n",
       "Citizenship                 0\n",
       "LegalType                   0\n",
       "Title                       0\n",
       "Language                    0\n",
       "Bank                        0\n",
       "AccountType                 0\n",
       "MaritalStatus               0\n",
       "Gender                      0\n",
       "Country                     0\n",
       "Province                    0\n",
       "PostalCode                  0\n",
       "MainCrestaZone              0\n",
       "SubCrestaZone               0\n",
       "ItemType                    0\n",
       "mmcode                      0\n",
       "VehicleType                 0\n",
       "RegistrationYear            0\n",
       "make                        0\n",
       "Model                       0\n",
       "Cylinders                   0\n",
       "cubiccapacity               0\n",
       "kilowatts                   0\n",
       "bodytype                    0\n",
       "NumberOfDoors               0\n",
       "VehicleIntroDate            0\n",
       "AlarmImmobiliser            0\n",
       "TrackingDevice              0\n",
       "CapitalOutstanding          0\n",
       "NewVehicle                  0\n",
       "SumInsured                  0\n",
       "TermFrequency               0\n",
       "CalculatedPremiumPerTerm    0\n",
       "ExcessSelected              0\n",
       "CoverCategory               0\n",
       "CoverType                   0\n",
       "CoverGroup                  0\n",
       "Section                     0\n",
       "Product                     0\n",
       "StatutoryClass              0\n",
       "StatutoryRiskType           0\n",
       "TotalPremium                0\n",
       "TotalClaims                 0\n",
       "dtype: int64"
      ]
     },
     "execution_count": 4,
     "metadata": {},
     "output_type": "execute_result"
    }
   ],
   "source": [
    "data.isna().sum()"
   ]
  },
  {
   "cell_type": "code",
   "execution_count": 10,
   "metadata": {
    "execution": {
     "iopub.execute_input": "2025-01-01T12:12:17.791091Z",
     "iopub.status.busy": "2025-01-01T12:12:17.790748Z",
     "iopub.status.idle": "2025-01-01T12:12:17.798954Z",
     "shell.execute_reply": "2025-01-01T12:12:17.798405Z",
     "shell.execute_reply.started": "2025-01-01T12:12:17.791069Z"
    }
   },
   "outputs": [],
   "source": [
    "# Feature Engineering\n",
    "data['Margin'] = data['TotalPremium'] - data['TotalClaims']"
   ]
  },
  {
   "cell_type": "code",
   "execution_count": 11,
   "metadata": {
    "execution": {
     "iopub.execute_input": "2025-01-01T12:14:30.721819Z",
     "iopub.status.busy": "2025-01-01T12:14:30.721474Z",
     "iopub.status.idle": "2025-01-01T12:14:32.300563Z",
     "shell.execute_reply": "2025-01-01T12:14:32.299952Z",
     "shell.execute_reply.started": "2025-01-01T12:14:30.721798Z"
    }
   },
   "outputs": [],
   "source": [
    "# Identify categorical features\n",
    "categorical_cols = data.select_dtypes(include=['object']).columns\n",
    "\n",
    "# Separate high-cardinality and low-cardinality categorical features\n",
    "high_cardinality_cols = [col for col in categorical_cols if data[col].nunique() > 10]\n",
    "low_cardinality_cols = list(set(categorical_cols) - set(high_cardinality_cols))"
   ]
  },
  {
   "cell_type": "code",
   "execution_count": 12,
   "metadata": {
    "execution": {
     "iopub.execute_input": "2025-01-01T12:14:40.738680Z",
     "iopub.status.busy": "2025-01-01T12:14:40.738340Z",
     "iopub.status.idle": "2025-01-01T12:14:42.546106Z",
     "shell.execute_reply": "2025-01-01T12:14:42.545597Z",
     "shell.execute_reply.started": "2025-01-01T12:14:40.738658Z"
    }
   },
   "outputs": [],
   "source": [
    "# Apply label encoding to high-cardinality columns\n",
    "label_encoders = {col: LabelEncoder() for col in high_cardinality_cols}\n",
    "\n",
    "for col in high_cardinality_cols:\n",
    "    data[col] = label_encoders[col].fit_transform(data[col])"
   ]
  },
  {
   "cell_type": "code",
   "execution_count": 14,
   "metadata": {
    "execution": {
     "iopub.execute_input": "2025-01-01T12:15:24.274687Z",
     "iopub.status.busy": "2025-01-01T12:15:24.274323Z",
     "iopub.status.idle": "2025-01-01T12:15:28.548418Z",
     "shell.execute_reply": "2025-01-01T12:15:28.547795Z",
     "shell.execute_reply.started": "2025-01-01T12:15:24.274662Z"
    }
   },
   "outputs": [],
   "source": [
    "# Apply one-hot encoding only to low-cardinality columns\n",
    "one_hot_encoder = OneHotEncoder(handle_unknown='ignore', sparse_output=False)\n",
    "one_hot_encoded = one_hot_encoder.fit_transform(data[low_cardinality_cols])\n",
    "\n",
    "# Convert one-hot encoded data into a DataFrame\n",
    "low_card_encoded_df = pd.DataFrame(one_hot_encoded, columns=one_hot_encoder.get_feature_names_out(low_cardinality_cols))"
   ]
  },
  {
   "cell_type": "code",
   "execution_count": 15,
   "metadata": {
    "execution": {
     "iopub.execute_input": "2025-01-01T12:15:53.956326Z",
     "iopub.status.busy": "2025-01-01T12:15:53.956008Z",
     "iopub.status.idle": "2025-01-01T12:15:55.197391Z",
     "shell.execute_reply": "2025-01-01T12:15:55.196811Z",
     "shell.execute_reply.started": "2025-01-01T12:15:53.956302Z"
    }
   },
   "outputs": [
    {
     "data": {
      "text/plain": [
       "(1000098, 89)"
      ]
     },
     "execution_count": 15,
     "metadata": {},
     "output_type": "execute_result"
    }
   ],
   "source": [
    "# Drop original low-cardinality columns and concatenate encoded data\n",
    "data = data.drop(columns=low_cardinality_cols).reset_index(drop=True)\n",
    "data = pd.concat([data, low_card_encoded_df], axis=1)\n",
    "data.shape"
   ]
  },
  {
   "cell_type": "code",
   "execution_count": 17,
   "metadata": {
    "execution": {
     "iopub.execute_input": "2025-01-01T12:26:05.431387Z",
     "iopub.status.busy": "2025-01-01T12:26:05.431050Z",
     "iopub.status.idle": "2025-01-01T12:26:06.371540Z",
     "shell.execute_reply": "2025-01-01T12:26:06.370981Z",
     "shell.execute_reply.started": "2025-01-01T12:26:05.431365Z"
    }
   },
   "outputs": [],
   "source": [
    "# Train-Test Split\n",
    "X = data.drop(['TotalPremium', 'TotalClaims'], axis=1)\n",
    "y = data['TotalPremium']\n",
    "X_train, X_test, y_train, y_test = train_test_split(X, y, test_size=0.2, random_state=42)"
   ]
  },
  {
   "cell_type": "code",
   "execution_count": 18,
   "metadata": {
    "execution": {
     "iopub.execute_input": "2025-01-01T12:26:12.608974Z",
     "iopub.status.busy": "2025-01-01T12:26:12.608650Z",
     "iopub.status.idle": "2025-01-01T12:26:18.393135Z",
     "shell.execute_reply": "2025-01-01T12:26:18.392593Z",
     "shell.execute_reply.started": "2025-01-01T12:26:12.608953Z"
    }
   },
   "outputs": [],
   "source": [
    "scaler = StandardScaler()\n",
    "X_train = scaler.fit_transform(X_train)\n",
    "X_test = scaler.transform(X_test)"
   ]
  },
  {
   "cell_type": "code",
   "execution_count": 19,
   "metadata": {
    "execution": {
     "iopub.execute_input": "2025-01-01T12:30:57.060007Z",
     "iopub.status.busy": "2025-01-01T12:30:57.059671Z",
     "iopub.status.idle": "2025-01-01T12:30:58.780809Z",
     "shell.execute_reply": "2025-01-01T12:30:58.779953Z",
     "shell.execute_reply.started": "2025-01-01T12:30:57.059985Z"
    }
   },
   "outputs": [],
   "source": [
    "# Linear Regression\n",
    "linear_model = LinearRegression()\n",
    "linear_model.fit(X_train, y_train)\n",
    "y_pred_linear = linear_model.predict(X_test)"
   ]
  },
  {
   "cell_type": "code",
   "execution_count": null,
   "metadata": {},
   "outputs": [],
   "source": []
  }
 ],
 "metadata": {
  "kernelspec": {
   "display_name": "saturn (Python 3)",
   "language": "python",
   "name": "python3"
  },
  "language_info": {
   "codemirror_mode": {
    "name": "ipython",
    "version": 3
   },
   "file_extension": ".py",
   "mimetype": "text/x-python",
   "name": "python",
   "nbconvert_exporter": "python",
   "pygments_lexer": "ipython3",
   "version": "3.12.7"
  }
 },
 "nbformat": 4,
 "nbformat_minor": 4
}
