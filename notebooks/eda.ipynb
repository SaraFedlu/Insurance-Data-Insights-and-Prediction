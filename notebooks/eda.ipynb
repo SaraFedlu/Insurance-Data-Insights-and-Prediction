{
 "cells": [
  {
   "cell_type": "code",
   "execution_count": 1,
   "metadata": {},
   "outputs": [],
   "source": [
    "import pandas as pd\n",
    "import numpy as np\n",
    "import matplotlib.pyplot as plt\n",
    "import seaborn as sns"
   ]
  },
  {
   "cell_type": "code",
   "execution_count": 15,
   "metadata": {},
   "outputs": [
    {
     "name": "stderr",
     "output_type": "stream",
     "text": [
      "/tmp/ipykernel_22297/1502387084.py:1: DtypeWarning: Columns (32,37) have mixed types. Specify dtype option on import or set low_memory=False.\n",
      "  data = pd.read_csv('../data/MachineLearningRating_v3.txt', delimiter='|')\n"
     ]
    }
   ],
   "source": [
    "data = pd.read_csv('../data/MachineLearningRating_v3.txt', delimiter='|')"
   ]
  },
  {
   "cell_type": "code",
   "execution_count": 3,
   "metadata": {},
   "outputs": [
    {
     "name": "stdout",
     "output_type": "stream",
     "text": [
      "Dataset Shape: (1000098, 52)\n",
      "Dataset Columns: Index(['UnderwrittenCoverID', 'PolicyID', 'TransactionMonth',\n",
      "       'IsVATRegistered', 'Citizenship', 'LegalType', 'Title', 'Language',\n",
      "       'Bank', 'AccountType', 'MaritalStatus', 'Gender', 'Country', 'Province',\n",
      "       'PostalCode', 'MainCrestaZone', 'SubCrestaZone', 'ItemType', 'mmcode',\n",
      "       'VehicleType', 'RegistrationYear', 'make', 'Model', 'Cylinders',\n",
      "       'cubiccapacity', 'kilowatts', 'bodytype', 'NumberOfDoors',\n",
      "       'VehicleIntroDate', 'CustomValueEstimate', 'AlarmImmobiliser',\n",
      "       'TrackingDevice', 'CapitalOutstanding', 'NewVehicle', 'WrittenOff',\n",
      "       'Rebuilt', 'Converted', 'CrossBorder', 'NumberOfVehiclesInFleet',\n",
      "       'SumInsured', 'TermFrequency', 'CalculatedPremiumPerTerm',\n",
      "       'ExcessSelected', 'CoverCategory', 'CoverType', 'CoverGroup', 'Section',\n",
      "       'Product', 'StatutoryClass', 'StatutoryRiskType', 'TotalPremium',\n",
      "       'TotalClaims'],\n",
      "      dtype='object')\n"
     ]
    }
   ],
   "source": [
    "print(\"Dataset Shape:\", data.shape)\n",
    "print(\"Dataset Columns:\", data.columns)"
   ]
  },
  {
   "cell_type": "code",
   "execution_count": 16,
   "metadata": {},
   "outputs": [
    {
     "name": "stdout",
     "output_type": "stream",
     "text": [
      "<class 'pandas.core.frame.DataFrame'>\n",
      "RangeIndex: 1000098 entries, 0 to 1000097\n",
      "Data columns (total 52 columns):\n",
      " #   Column                    Non-Null Count    Dtype  \n",
      "---  ------                    --------------    -----  \n",
      " 0   UnderwrittenCoverID       1000098 non-null  int64  \n",
      " 1   PolicyID                  1000098 non-null  int64  \n",
      " 2   TransactionMonth          1000098 non-null  object \n",
      " 3   IsVATRegistered           1000098 non-null  bool   \n",
      " 4   Citizenship               1000098 non-null  object \n",
      " 5   LegalType                 1000098 non-null  object \n",
      " 6   Title                     1000098 non-null  object \n",
      " 7   Language                  1000098 non-null  object \n",
      " 8   Bank                      854137 non-null   object \n",
      " 9   AccountType               959866 non-null   object \n",
      " 10  MaritalStatus             991839 non-null   object \n",
      " 11  Gender                    990562 non-null   object \n",
      " 12  Country                   1000098 non-null  object \n",
      " 13  Province                  1000098 non-null  object \n",
      " 14  PostalCode                1000098 non-null  int64  \n",
      " 15  MainCrestaZone            1000098 non-null  object \n",
      " 16  SubCrestaZone             1000098 non-null  object \n",
      " 17  ItemType                  1000098 non-null  object \n",
      " 18  mmcode                    999546 non-null   float64\n",
      " 19  VehicleType               999546 non-null   object \n",
      " 20  RegistrationYear          1000098 non-null  int64  \n",
      " 21  make                      999546 non-null   object \n",
      " 22  Model                     999546 non-null   object \n",
      " 23  Cylinders                 999546 non-null   float64\n",
      " 24  cubiccapacity             999546 non-null   float64\n",
      " 25  kilowatts                 999546 non-null   float64\n",
      " 26  bodytype                  999546 non-null   object \n",
      " 27  NumberOfDoors             999546 non-null   float64\n",
      " 28  VehicleIntroDate          999546 non-null   object \n",
      " 29  CustomValueEstimate       220456 non-null   float64\n",
      " 30  AlarmImmobiliser          1000098 non-null  object \n",
      " 31  TrackingDevice            1000098 non-null  object \n",
      " 32  CapitalOutstanding        1000096 non-null  object \n",
      " 33  NewVehicle                846803 non-null   object \n",
      " 34  WrittenOff                358197 non-null   object \n",
      " 35  Rebuilt                   358197 non-null   object \n",
      " 36  Converted                 358197 non-null   object \n",
      " 37  CrossBorder               698 non-null      object \n",
      " 38  NumberOfVehiclesInFleet   0 non-null        float64\n",
      " 39  SumInsured                1000098 non-null  float64\n",
      " 40  TermFrequency             1000098 non-null  object \n",
      " 41  CalculatedPremiumPerTerm  1000098 non-null  float64\n",
      " 42  ExcessSelected            1000098 non-null  object \n",
      " 43  CoverCategory             1000098 non-null  object \n",
      " 44  CoverType                 1000098 non-null  object \n",
      " 45  CoverGroup                1000098 non-null  object \n",
      " 46  Section                   1000098 non-null  object \n",
      " 47  Product                   1000098 non-null  object \n",
      " 48  StatutoryClass            1000098 non-null  object \n",
      " 49  StatutoryRiskType         1000098 non-null  object \n",
      " 50  TotalPremium              1000098 non-null  float64\n",
      " 51  TotalClaims               1000098 non-null  float64\n",
      "dtypes: bool(1), float64(11), int64(4), object(36)\n",
      "memory usage: 390.1+ MB\n"
     ]
    }
   ],
   "source": [
    "data.info()"
   ]
  },
  {
   "cell_type": "code",
   "execution_count": 17,
   "metadata": {},
   "outputs": [],
   "source": [
    "data['TransactionMonth'] = pd.to_datetime(data['TransactionMonth'], errors='coerce')"
   ]
  },
  {
   "cell_type": "code",
   "execution_count": 18,
   "metadata": {},
   "outputs": [],
   "source": [
    "data.replace(['', ' ', 'NaN', 'nan'], np.nan, inplace=True)"
   ]
  },
  {
   "cell_type": "code",
   "execution_count": 19,
   "metadata": {},
   "outputs": [
    {
     "data": {
      "text/plain": [
       "UnderwrittenCoverID               0\n",
       "PolicyID                          0\n",
       "TransactionMonth                  0\n",
       "IsVATRegistered                   0\n",
       "Citizenship                       0\n",
       "LegalType                         0\n",
       "Title                             0\n",
       "Language                          0\n",
       "Bank                         145961\n",
       "AccountType                   40232\n",
       "MaritalStatus                  8259\n",
       "Gender                         9536\n",
       "Country                           0\n",
       "Province                          0\n",
       "PostalCode                        0\n",
       "MainCrestaZone                    0\n",
       "SubCrestaZone                     0\n",
       "ItemType                          0\n",
       "mmcode                          552\n",
       "VehicleType                     552\n",
       "RegistrationYear                  0\n",
       "make                            552\n",
       "Model                           552\n",
       "Cylinders                       552\n",
       "cubiccapacity                   552\n",
       "kilowatts                       552\n",
       "bodytype                        552\n",
       "NumberOfDoors                   552\n",
       "VehicleIntroDate                552\n",
       "CustomValueEstimate          779642\n",
       "AlarmImmobiliser                  0\n",
       "TrackingDevice                    0\n",
       "CapitalOutstanding                2\n",
       "NewVehicle                   153295\n",
       "WrittenOff                   641901\n",
       "Rebuilt                      641901\n",
       "Converted                    641901\n",
       "CrossBorder                  999400\n",
       "NumberOfVehiclesInFleet     1000098\n",
       "SumInsured                        0\n",
       "TermFrequency                     0\n",
       "CalculatedPremiumPerTerm          0\n",
       "ExcessSelected                    0\n",
       "CoverCategory                     0\n",
       "CoverType                         0\n",
       "CoverGroup                        0\n",
       "Section                           0\n",
       "Product                           0\n",
       "StatutoryClass                    0\n",
       "StatutoryRiskType                 0\n",
       "TotalPremium                      0\n",
       "TotalClaims                       0\n",
       "dtype: int64"
      ]
     },
     "execution_count": 19,
     "metadata": {},
     "output_type": "execute_result"
    }
   ],
   "source": [
    "missing_values = data.isnull().sum()\n",
    "missing_values"
   ]
  },
  {
   "cell_type": "code",
   "execution_count": 20,
   "metadata": {},
   "outputs": [],
   "source": [
    "# Drop Columns with High Missing Values\n",
    "columns_to_drop = ['CustomValueEstimate', 'CrossBorder', 'NumberOfVehiclesInFleet', \n",
    "                   'WrittenOff', 'Rebuilt', 'Converted']\n",
    "data_cleaned = data.drop(columns=columns_to_drop)"
   ]
  },
  {
   "cell_type": "code",
   "execution_count": 21,
   "metadata": {},
   "outputs": [
    {
     "name": "stderr",
     "output_type": "stream",
     "text": [
      "/tmp/ipykernel_22297/3387964079.py:4: FutureWarning: A value is trying to be set on a copy of a DataFrame or Series through chained assignment using an inplace method.\n",
      "The behavior will change in pandas 3.0. This inplace method will never work because the intermediate object on which we are setting values always behaves as a copy.\n",
      "\n",
      "For example, when doing 'df[col].method(value, inplace=True)', try using 'df.method({col: value}, inplace=True)' or df[col] = df[col].method(value) instead, to perform the operation inplace on the original object.\n",
      "\n",
      "\n",
      "  data_cleaned[col].fillna(data_cleaned[col].mode()[0], inplace=True)\n"
     ]
    }
   ],
   "source": [
    "# For categorical columns, use mode\n",
    "categorical_columns_to_impute = ['Bank', 'AccountType', 'MaritalStatus', 'Gender']\n",
    "for col in categorical_columns_to_impute:\n",
    "    data_cleaned[col].fillna(data_cleaned[col].mode()[0], inplace=True)"
   ]
  },
  {
   "cell_type": "code",
   "execution_count": null,
   "metadata": {},
   "outputs": [
    {
     "name": "stdout",
     "output_type": "stream",
     "text": [
      "Remaining missing values: 0\n"
     ]
    },
    {
     "name": "stderr",
     "output_type": "stream",
     "text": [
      "/tmp/ipykernel_22297/4047967617.py:3: FutureWarning: A value is trying to be set on a copy of a DataFrame or Series through chained assignment using an inplace method.\n",
      "The behavior will change in pandas 3.0. This inplace method will never work because the intermediate object on which we are setting values always behaves as a copy.\n",
      "\n",
      "For example, when doing 'df[col].method(value, inplace=True)', try using 'df.method({col: value}, inplace=True)' or df[col] = df[col].method(value) instead, to perform the operation inplace on the original object.\n",
      "\n",
      "\n",
      "  data['CapitalOutstanding'].fillna(data['CapitalOutstanding'].median(), inplace=True)\n"
     ]
    }
   ],
   "source": [
    "data_cleaned['CapitalOutstanding'] = data_cleaned['CapitalOutstanding'].str.replace(',', '', regex=True)\n",
    "data_cleaned['CapitalOutstanding'] = pd.to_numeric(data_cleaned['CapitalOutstanding'], errors='coerce')\n",
    "data_cleaned['CapitalOutstanding'].fillna(data_cleaned['CapitalOutstanding'].median(), inplace=True)\n",
    "print(\"Remaining missing values:\", data_cleaned['CapitalOutstanding'].isnull().sum())"
   ]
  },
  {
   "cell_type": "code",
   "execution_count": 23,
   "metadata": {},
   "outputs": [
    {
     "data": {
      "text/plain": [
       "UnderwrittenCoverID              0\n",
       "PolicyID                         0\n",
       "TransactionMonth                 0\n",
       "IsVATRegistered                  0\n",
       "Citizenship                      0\n",
       "LegalType                        0\n",
       "Title                            0\n",
       "Language                         0\n",
       "Bank                             0\n",
       "AccountType                      0\n",
       "MaritalStatus                    0\n",
       "Gender                           0\n",
       "Country                          0\n",
       "Province                         0\n",
       "PostalCode                       0\n",
       "MainCrestaZone                   0\n",
       "SubCrestaZone                    0\n",
       "ItemType                         0\n",
       "mmcode                         552\n",
       "VehicleType                    552\n",
       "RegistrationYear                 0\n",
       "make                           552\n",
       "Model                          552\n",
       "Cylinders                      552\n",
       "cubiccapacity                  552\n",
       "kilowatts                      552\n",
       "bodytype                       552\n",
       "NumberOfDoors                  552\n",
       "VehicleIntroDate               552\n",
       "AlarmImmobiliser                 0\n",
       "TrackingDevice                   0\n",
       "CapitalOutstanding               2\n",
       "NewVehicle                  153295\n",
       "SumInsured                       0\n",
       "TermFrequency                    0\n",
       "CalculatedPremiumPerTerm         0\n",
       "ExcessSelected                   0\n",
       "CoverCategory                    0\n",
       "CoverType                        0\n",
       "CoverGroup                       0\n",
       "Section                          0\n",
       "Product                          0\n",
       "StatutoryClass                   0\n",
       "StatutoryRiskType                0\n",
       "TotalPremium                     0\n",
       "TotalClaims                      0\n",
       "dtype: int64"
      ]
     },
     "execution_count": 23,
     "metadata": {},
     "output_type": "execute_result"
    }
   ],
   "source": [
    "data_cleaned.isnull().sum()"
   ]
  }
 ],
 "metadata": {
  "kernelspec": {
   "display_name": ".env",
   "language": "python",
   "name": "python3"
  },
  "language_info": {
   "codemirror_mode": {
    "name": "ipython",
    "version": 3
   },
   "file_extension": ".py",
   "mimetype": "text/x-python",
   "name": "python",
   "nbconvert_exporter": "python",
   "pygments_lexer": "ipython3",
   "version": "3.12.3"
  }
 },
 "nbformat": 4,
 "nbformat_minor": 2
}
